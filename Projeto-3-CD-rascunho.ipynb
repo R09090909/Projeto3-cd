{
 "cells": [
  {
   "cell_type": "markdown",
   "metadata": {},
   "source": [
    "___\n",
    "# Projeto 3 - CD\n",
    "___\n",
    "\n",
    "## Regressão linear que agrupa diferentes tipos de músicas de acordo com sua dançabilidade.\n",
    "\n",
    "O objetivo desse projeto é fazer diferentes agrupamentos de músicas do Spotify, utilizando a regressão linear, levando em consideração o quão dançável é a música. Queremos analisar o tamanho obtido e as diferenças das quantidades de músicas em determinados grupos.\n",
    "\n",
    "Exemplo de aplicação da técnica: https://www.kaggle.com/noemir/dimension-reduction-of-music-pref-in-progress/comments \n",
    "\n",
    "**Nomes das integrantes:**\n",
    "Rebeca Moreno,\n",
    "Giulia Passarelli e\n",
    "Carla Kim"
   ]
  },
  {
   "cell_type": "code",
   "execution_count": 12,
   "metadata": {
    "collapsed": true
   },
   "outputs": [],
   "source": [
    "%matplotlib inline\n",
    "\n",
    "import pandas as pd\n",
    "import numpy as np\n",
    "import matplotlib.pyplot as plt\n",
    "from scipy.stats import norm\n",
    "from scipy.stats import expon\n",
    "import seaborn as sns\n",
    "\n",
    "from mpl_toolkits.mplot3d import Axes3D"
   ]
  },
  {
   "cell_type": "code",
   "execution_count": 13,
   "metadata": {
    "collapsed": false,
    "scrolled": false
   },
   "outputs": [],
   "source": [
    "#lendo a planilha de dados\n",
    "sptdata = pd.read_csv(\"data.csv\")\n",
    "\n",
    "#ajustando a quantidade de termos que precisamos usar\n",
    "spotdata = sptdata[0:100]\n",
    "spotdatatreina = sptdata[100:200]"
   ]
  },
  {
   "cell_type": "markdown",
   "metadata": {},
   "source": [
    "Dicionário dos dados:\n",
    "https://developer.spotify.com/web-api/get-audio-features/"
   ]
  },
  {
   "cell_type": "code",
   "execution_count": 14,
   "metadata": {
    "collapsed": false,
    "scrolled": false
   },
   "outputs": [
    {
     "name": "stderr",
     "output_type": "stream",
     "text": [
      "//anaconda/lib/python3.6/site-packages/ipykernel/__main__.py:7: SettingWithCopyWarning: \n",
      "A value is trying to be set on a copy of a slice from a DataFrame\n",
      "\n",
      "See the caveats in the documentation: http://pandas.pydata.org/pandas-docs/stable/indexing.html#indexing-view-versus-copy\n",
      "//anaconda/lib/python3.6/site-packages/pandas/core/generic.py:4702: SettingWithCopyWarning: \n",
      "A value is trying to be set on a copy of a slice from a DataFrame\n",
      "\n",
      "See the caveats in the documentation: http://pandas.pydata.org/pandas-docs/stable/indexing.html#indexing-view-versus-copy\n",
      "  self._update_inplace(new_data)\n",
      "//anaconda/lib/python3.6/site-packages/IPython/core/interactiveshell.py:2881: SettingWithCopyWarning: \n",
      "A value is trying to be set on a copy of a slice from a DataFrame\n",
      "\n",
      "See the caveats in the documentation: http://pandas.pydata.org/pandas-docs/stable/indexing.html#indexing-view-versus-copy\n",
      "  exec(code_obj, self.user_global_ns, self.user_ns)\n",
      "//anaconda/lib/python3.6/site-packages/ipykernel/__main__.py:8: SettingWithCopyWarning: \n",
      "A value is trying to be set on a copy of a slice from a DataFrame\n",
      "\n",
      "See the caveats in the documentation: http://pandas.pydata.org/pandas-docs/stable/indexing.html#indexing-view-versus-copy\n",
      "//anaconda/lib/python3.6/site-packages/ipykernel/__main__.py:9: SettingWithCopyWarning: \n",
      "A value is trying to be set on a copy of a slice from a DataFrame\n",
      "\n",
      "See the caveats in the documentation: http://pandas.pydata.org/pandas-docs/stable/indexing.html#indexing-view-versus-copy\n"
     ]
    },
    {
     "name": "stdout",
     "output_type": "stream",
     "text": [
      "Frequências relativas por notas musicais:\n",
      "C         10.0\n",
      "C♯, D♭    16.0\n",
      "D         13.0\n",
      "D♯, E♭     2.0\n",
      "E          3.0\n",
      "F          8.0\n",
      "F♯, G♭     5.0\n",
      "G          9.0\n",
      "G♯, A♭     5.0\n",
      "A         10.0\n",
      "A♯, B♭    10.0\n",
      "B          9.0\n",
      "Name: key, dtype: float64 \n",
      "\n"
     ]
    },
    {
     "data": {
      "text/plain": [
       "<matplotlib.axes._subplots.AxesSubplot at 0x11b762198>"
      ]
     },
     "execution_count": 14,
     "metadata": {},
     "output_type": "execute_result"
    },
    {
     "data": {
      "image/png": "[encoded data removed]",
      "text/plain": [
       "<matplotlib.figure.Figure at 0x11b701fd0>"
      ]
     },
     "metadata": {},
     "output_type": "display_data"
    }
   ],
   "source": [
    "spotdata.notakey = spotdata.key\n",
    "spotdata.notakey = spotdata.notakey.astype('category')\n",
    "spotdata.notakey.cat.categories = (['C','C♯, D♭','D','D♯, E♭','E','F','F♯, G♭','G','G♯, A♭','A','A♯, B♭','B'])\n",
    "\n",
    "#filtrando/dividindo os Estados por Regiões:\n",
    "spotdata.energyy = spotdata.energy\n",
    "spotdata.energyy[(spotdata.energyy >= 0) & (spotdata.energyy < 0.33)] = [0]\n",
    "spotdata.energyy[(spotdata.energyy >= 0.33) & (spotdata.energyy < 0.66)] = [1]\n",
    "spotdata.energyy[(spotdata.energyy >= 0.66) & (spotdata.energyy < 1)] = [2]\n",
    "spotdata.energyy = spotdata.energyy.astype('category')\n",
    "spotdata.energyy.cat.categories = (['Menos energética','Média','Mais energética'])\n",
    "\n",
    "print('Frequências relativas por notas musicais:')\n",
    "ut1 = (spotdata.notakey.value_counts(normalize=True)*100).round(decimals=1).reindex(['C','C♯, D♭','D','D♯, E♭','E','F','F♯, G♭','G','G♯, A♭','A','A♯, B♭','B'])\n",
    "print(ut1,'\\n')\n",
    "\n",
    "#tabela de frequência das notas (key)\n",
    "NotaEnergy = pd.crosstab(spotdata.notakey,spotdata.energyy, normalize=True, colnames=['Grau de energia'],rownames=['Notas musicais'])\n",
    "NotaEnergy.plot(kind = 'bar',title = '',figsize=(13,9),color = ('pink','c','purple'),grid=False)"
   ]
  },
  {
   "cell_type": "code",
   "execution_count": 33,
   "metadata": {
    "collapsed": false
   },
   "outputs": [
    {
     "name": "stderr",
     "output_type": "stream",
     "text": [
      "//anaconda/lib/python3.6/site-packages/ipykernel/__main__.py:2: SettingWithCopyWarning: \n",
      "A value is trying to be set on a copy of a slice from a DataFrame.\n",
      "Try using .loc[row_indexer,col_indexer] = value instead\n",
      "\n",
      "See the caveats in the documentation: http://pandas.pydata.org/pandas-docs/stable/indexing.html#indexing-view-versus-copy\n",
      "  from ipykernel import kernelapp as app\n",
      "//anaconda/lib/python3.6/site-packages/ipykernel/__main__.py:7: SettingWithCopyWarning: \n",
      "A value is trying to be set on a copy of a slice from a DataFrame.\n",
      "Try using .loc[row_indexer,col_indexer] = value instead\n",
      "\n",
      "See the caveats in the documentation: http://pandas.pydata.org/pandas-docs/stable/indexing.html#indexing-view-versus-copy\n",
      "//anaconda/lib/python3.6/site-packages/ipykernel/__main__.py:10: SettingWithCopyWarning: \n",
      "A value is trying to be set on a copy of a slice from a DataFrame.\n",
      "Try using .loc[row_indexer,col_indexer] = value instead\n",
      "\n",
      "See the caveats in the documentation: http://pandas.pydata.org/pandas-docs/stable/indexing.html#indexing-view-versus-copy\n",
      "//anaconda/lib/python3.6/site-packages/ipykernel/__main__.py:11: SettingWithCopyWarning: \n",
      "A value is trying to be set on a copy of a slice from a DataFrame.\n",
      "Try using .loc[row_indexer,col_indexer] = value instead\n",
      "\n",
      "See the caveats in the documentation: http://pandas.pydata.org/pandas-docs/stable/indexing.html#indexing-view-versus-copy\n"
     ]
    },
    {
     "data": {
      "image/png": "[encoded data removed]",
      "text/plain": [
       "<matplotlib.figure.Figure at 0x11bf6db70>"
      ]
     },
     "metadata": {},
     "output_type": "display_data"
    },
    {
     "data": {
      "text/html": [
       "<div>\n",
       "<table border=\"1\" class=\"dataframe\">\n",
       "  <thead>\n",
       "    <tr style=\"text-align: right;\">\n",
       "      <th>Grau de energia</th>\n",
       "      <th>0</th>\n",
       "      <th>1</th>\n",
       "      <th>2</th>\n",
       "      <th>3</th>\n",
       "      <th>4</th>\n",
       "      <th>5</th>\n",
       "      <th>6</th>\n",
       "      <th>7</th>\n",
       "      <th>8</th>\n",
       "      <th>9</th>\n",
       "      <th>10</th>\n",
       "      <th>11</th>\n",
       "      <th>All</th>\n",
       "    </tr>\n",
       "    <tr>\n",
       "      <th>Notas musicais</th>\n",
       "      <th></th>\n",
       "      <th></th>\n",
       "      <th></th>\n",
       "      <th></th>\n",
       "      <th></th>\n",
       "      <th></th>\n",
       "      <th></th>\n",
       "      <th></th>\n",
       "      <th></th>\n",
       "      <th></th>\n",
       "      <th></th>\n",
       "      <th></th>\n",
       "      <th></th>\n",
       "    </tr>\n",
       "  </thead>\n",
       "  <tbody>\n",
       "    <tr>\n",
       "      <th>0</th>\n",
       "      <td>0.02</td>\n",
       "      <td>0.05</td>\n",
       "      <td>0.01</td>\n",
       "      <td>0.01</td>\n",
       "      <td>0.03</td>\n",
       "      <td>0.06</td>\n",
       "      <td>0.01</td>\n",
       "      <td>0.01</td>\n",
       "      <td>0.01</td>\n",
       "      <td>0.05</td>\n",
       "      <td>0.07</td>\n",
       "      <td>0.07</td>\n",
       "      <td>0.4</td>\n",
       "    </tr>\n",
       "    <tr>\n",
       "      <th>1</th>\n",
       "      <td>0.08</td>\n",
       "      <td>0.11</td>\n",
       "      <td>0.12</td>\n",
       "      <td>0.01</td>\n",
       "      <td>0.00</td>\n",
       "      <td>0.02</td>\n",
       "      <td>0.04</td>\n",
       "      <td>0.08</td>\n",
       "      <td>0.04</td>\n",
       "      <td>0.05</td>\n",
       "      <td>0.03</td>\n",
       "      <td>0.02</td>\n",
       "      <td>0.6</td>\n",
       "    </tr>\n",
       "    <tr>\n",
       "      <th>All</th>\n",
       "      <td>0.10</td>\n",
       "      <td>0.16</td>\n",
       "      <td>0.13</td>\n",
       "      <td>0.02</td>\n",
       "      <td>0.03</td>\n",
       "      <td>0.08</td>\n",
       "      <td>0.05</td>\n",
       "      <td>0.09</td>\n",
       "      <td>0.05</td>\n",
       "      <td>0.10</td>\n",
       "      <td>0.10</td>\n",
       "      <td>0.09</td>\n",
       "      <td>1.0</td>\n",
       "    </tr>\n",
       "  </tbody>\n",
       "</table>\n",
       "</div>"
      ],
      "text/plain": [
       "Grau de energia     0     1     2     3     4     5     6     7     8     9  \\\n",
       "Notas musicais                                                                \n",
       "0                0.02  0.05  0.01  0.01  0.03  0.06  0.01  0.01  0.01  0.05   \n",
       "1                0.08  0.11  0.12  0.01  0.00  0.02  0.04  0.08  0.04  0.05   \n",
       "All              0.10  0.16  0.13  0.02  0.03  0.08  0.05  0.09  0.05  0.10   \n",
       "\n",
       "Grau de energia    10    11  All  \n",
       "Notas musicais                    \n",
       "0                0.07  0.07  0.4  \n",
       "1                0.03  0.02  0.6  \n",
       "All              0.10  0.09  1.0  "
      ]
     },
     "execution_count": 33,
     "metadata": {},
     "output_type": "execute_result"
    }
   ],
   "source": [
    "#para o treinamento do computador dos 100 primeiros termos\n",
    "spotdata['mode12key'] = spotdata['mode']*12 + spotdata['key']\n",
    "# for i in spotdata['mode12key']:\n",
    "#     if i>=12:\n",
    "#         print('tom maior')\n",
    "#         if \n",
    "spotdata['mode12key'] = np.where(spotdata.mode12key >= spotdata['mode12key'].mean(), 1, 0)\n",
    "\n",
    "#para o teste dos novos termos de 100 a 200\n",
    "spotdata['mode12keytreina'] = spotdatatreina['mode']*12 + spotdatatreina['key']\n",
    "spotdata['mode12keytreina'] = np.where(spotdata.mode12keytreina >= spotdata['mode12keytreina'].mean(), 1, 0)\n",
    "\n",
    "#plot do gráfico \n",
    "spotdata.plot(kind = \"scatter\", x = \"key\", y = \"danceability\",figsize=(9,7))\n",
    "plt.title('Notas musicais ')\n",
    "plt.show()\n",
    "\n",
    "pd.crosstab(spotdata['mode'],spotdata.key,margins=True,normalize=True, colnames=['Grau de energia'],rownames=['Notas musicais'])"
   ]
  },
  {
   "cell_type": "markdown",
   "metadata": {},
   "source": [
    "## **Part 2:** Predicting a Categorical Response"
   ]
  },
  {
   "cell_type": "code",
   "execution_count": 16,
   "metadata": {
    "collapsed": false
   },
   "outputs": [
    {
     "name": "stderr",
     "output_type": "stream",
     "text": [
      "//anaconda/lib/python3.6/site-packages/ipykernel/__main__.py:8: SettingWithCopyWarning: \n",
      "A value is trying to be set on a copy of a slice from a DataFrame.\n",
      "Try using .loc[row_indexer,col_indexer] = value instead\n",
      "\n",
      "See the caveats in the documentation: http://pandas.pydata.org/pandas-docs/stable/indexing.html#indexing-view-versus-copy\n"
     ]
    }
   ],
   "source": [
    "# fit a logistic regression model and store the class predictions\n",
    "from sklearn.linear_model import LogisticRegression\n",
    "logreg = LogisticRegression(C=1e9)\n",
    "feature_cols = ['danceability']\n",
    "X = spotdata[feature_cols]\n",
    "y = spotdata.mode12key\n",
    "logreg.fit(X, y)\n",
    "spotdata['mode12key_pred_class'] = logreg.predict(X)"
   ]
  },
  {
   "cell_type": "code",
   "execution_count": 17,
   "metadata": {
    "collapsed": false
   },
   "outputs": [
    {
     "data": {
      "text/plain": [
       "count    100.00000\n",
       "mean       0.66918\n",
       "std        0.15105\n",
       "min        0.22400\n",
       "25%        0.59675\n",
       "50%        0.70300\n",
       "75%        0.78125\n",
       "max        0.95900\n",
       "Name: danceability, dtype: float64"
      ]
     },
     "execution_count": 17,
     "metadata": {},
     "output_type": "execute_result"
    }
   ],
   "source": [
    "\n",
    "pd.crosstab(spotdata.notakey,spotdata['danceability'], colnames=['Notas musicais'])\n",
    "spotdata['danceability'].describe()"
   ]
  },
  {
   "cell_type": "code",
   "execution_count": 18,
   "metadata": {
    "collapsed": false
   },
   "outputs": [
    {
     "name": "stderr",
     "output_type": "stream",
     "text": [
      "//anaconda/lib/python3.6/site-packages/ipykernel/__main__.py:1: SettingWithCopyWarning: \n",
      "A value is trying to be set on a copy of a slice from a DataFrame.\n",
      "Try using .loc[row_indexer,col_indexer] = value instead\n",
      "\n",
      "See the caveats in the documentation: http://pandas.pydata.org/pandas-docs/stable/indexing.html#indexing-view-versus-copy\n",
      "  if __name__ == '__main__':\n"
     ]
    }
   ],
   "source": [
    "spotdata['mode12key_pred_prob'] = logreg.predict_proba(X)[:, 1]"
   ]
  },
  {
   "cell_type": "code",
   "execution_count": 19,
   "metadata": {
    "collapsed": false
   },
   "outputs": [
    {
     "data": {
      "text/plain": [
       "<matplotlib.text.Text at 0x117db72b0>"
      ]
     },
     "execution_count": 19,
     "metadata": {},
     "output_type": "execute_result"
    },
    {
     "data": {
      "image/png": "[encoded data removed]",
      "text/plain": [
       "<matplotlib.figure.Figure at 0x11790a588>"
      ]
     },
     "metadata": {},
     "output_type": "display_data"
    },
    {
     "data": {
      "image/png": "[encoded data removed]",
      "text/plain": [
       "<matplotlib.figure.Figure at 0x117d93438>"
      ]
     },
     "metadata": {},
     "output_type": "display_data"
    }
   ],
   "source": [
    "sns.lmplot('danceability','mode12key_pred_class',spotdata)\n",
    "plt.title('Previsão da previsão das notas de cada música por quão dançável é a música')\n",
    "plt.xlabel('danceability')\n",
    "plt.ylabel('mode12key')\n",
    "\n",
    "sns.lmplot(x = 'danceability', y='mode12key_pred_prob', data=spotdata)\n",
    "plt.title('Probabilidade do tom da música por quão dançável é a música')\n",
    "plt.xlabel('danceability')\n",
    "plt.ylabel('mode12key')"
   ]
  },
  {
   "cell_type": "markdown",
   "metadata": {},
   "source": [
    "O gráfico de probabilidade nos diz que, para uma dançabilidade menor, a chance de a música ter um tom menor e ter as notas iniciais (mais próximas de dó (key 0 = C)) é maior que a outra chance."
   ]
  },
  {
   "cell_type": "code",
   "execution_count": 20,
   "metadata": {
    "collapsed": false
   },
   "outputs": [
    {
     "name": "stdout",
     "output_type": "stream",
     "text": [
      "[[  2.01388127e-03   1.19786620e-02   1.71131474e-02   4.17435925e-02\n",
      "    1.28686366e-03   3.55458739e-02   1.96518104e-01   2.53306384e-03\n",
      "    8.14198121e-03   8.42635887e-02   2.39452697e-02   2.69545980e-01\n",
      "    6.35949021e-03   4.23182577e-03   6.91133306e-02   1.60430042e-03\n",
      "    2.54818266e-02   3.82958716e-02   8.63081693e-02   5.83915978e-06\n",
      "    1.69591077e-02   5.51680172e-02   1.84221350e-03]]\n",
      "[[ 0.01122874  0.04033273  0.01570524  0.01828279  0.01160466  0.06799429\n",
      "   0.00700031  0.00822436  0.01262909  0.07926782  0.06485707  0.13799715\n",
      "   0.04129069  0.04212853  0.13464824  0.00682626  0.02905534  0.05333768\n",
      "   0.11134533  0.00096589  0.04615359  0.04831883  0.01080537]]\n",
      "[[  2.65735402e-02   5.77492086e-02   6.12079514e-03   3.26023188e-03\n",
      "    4.36975544e-02   5.57900108e-02   6.76457938e-05   1.14411621e-02\n",
      "    8.39786096e-03   3.02642760e-02   7.50463720e-02   1.89045816e-02\n",
      "    1.08947062e-01   1.60981238e-01   1.12509622e-01   1.24219799e-02\n",
      "    1.40711081e-02   3.16100333e-02   5.99515319e-02   6.41167565e-02\n",
      "    5.37248684e-02   1.74732112e-02   2.68793499e-02]]\n"
     ]
    }
   ],
   "source": [
    "# examine some example predictions\n",
    "\n",
    "print(logreg.predict_proba(0.2))\n",
    "print(logreg.predict_proba(0.5))\n",
    "print(logreg.predict_proba(0.8))"
   ]
  },
  {
   "cell_type": "markdown",
   "metadata": {},
   "source": [
    "A primeira coluna "
   ]
  },
  {
   "cell_type": "code",
   "execution_count": null,
   "metadata": {
    "collapsed": false
   },
   "outputs": [],
   "source": []
  }
 ],
 "metadata": {
  "kernelspec": {
   "display_name": "Python 3",
   "language": "python",
   "name": "python3"
  },
  "language_info": {
   "codemirror_mode": {
    "name": "ipython",
    "version": 3
   },
   "file_extension": ".py",
   "mimetype": "text/x-python",
   "name": "python",
   "nbconvert_exporter": "python",
   "pygments_lexer": "ipython3",
   "version": "3.6.0"
  }
 },
 "nbformat": 4,
 "nbformat_minor": 2
}
