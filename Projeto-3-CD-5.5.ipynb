{
 "cells": [
  {
   "cell_type": "markdown",
   "metadata": {},
   "source": [
    "___\n",
    "# Projeto 3 - CD\n",
    "___\n",
    "\n",
    "## Regressão linear que agrupa diferentes tipos de músicas de acordo com sua dançabilidade.\n",
    "\n",
    "O objetivo desse projeto é fazer diferentes agrupamentos de músicas do Spotify, utilizando a regressão linear, levando em consideração o quão dançável é a música. Queremos analisar o tamanho obtido e as diferenças das quantidades de músicas em determinados grupos.\n",
    "\n",
    "Exemplo de aplicação da técnica: https://www.kaggle.com/noemir/dimension-reduction-of-music-pref-in-progress/comments \n",
    "\n",
    "**Nomes das integrantes:**\n",
    "Rebeca Moreno,\n",
    "Giulia Passarelli e\n",
    "Carla Kim"
   ]
  },
  {
   "cell_type": "code",
   "execution_count": 1,
   "metadata": {},
   "outputs": [
    {
     "name": "stderr",
     "output_type": "stream",
     "text": [
      "C:\\Users\\Carla Kim\\Anaconda3\\lib\\site-packages\\statsmodels\\compat\\pandas.py:56: FutureWarning: The pandas.core.datetools module is deprecated and will be removed in a future version. Please use the pandas.tseries module instead.\n",
      "  from pandas.core import datetools\n"
     ]
    }
   ],
   "source": [
    "%matplotlib inline\n",
    "\n",
    "import pandas as pd\n",
    "import numpy as np\n",
    "import matplotlib.pyplot as plt\n",
    "from scipy.stats import norm\n",
    "from scipy.stats import expon\n",
    "import seaborn as sns\n",
    "import statsmodels.api as sm\n",
    "\n",
    "from mpl_toolkits.mplot3d import Axes3D"
   ]
  },
  {
   "cell_type": "code",
   "execution_count": 2,
   "metadata": {
    "scrolled": false
   },
   "outputs": [
    {
     "name": "stderr",
     "output_type": "stream",
     "text": [
      "C:\\Users\\Carla Kim\\Anaconda3\\lib\\site-packages\\pandas\\core\\generic.py:2999: SettingWithCopyWarning: \n",
      "A value is trying to be set on a copy of a slice from a DataFrame.\n",
      "Try using .loc[row_indexer,col_indexer] = value instead\n",
      "\n",
      "See the caveats in the documentation: http://pandas.pydata.org/pandas-docs/stable/indexing.html#indexing-view-versus-copy\n",
      "  self[name] = value\n"
     ]
    }
   ],
   "source": [
    "#lendo a planilha de dados\n",
    "sptdata = pd.read_csv(\"data.csv\")\n",
    "\n",
    "#ajustando a quantidade de termos que precisamos usar\n",
    "spotdata = sptdata[0:100]\n",
    "spotdatatreina = sptdata[100:200]\n",
    "spotdata.energy = sptdata.energy[0:100]"
   ]
  },
  {
   "cell_type": "markdown",
   "metadata": {},
   "source": [
    "Dicionário dos dados:\n",
    "https://www.kaggle.com/nyartsgnaw/analyzing-gender-differences/data"
   ]
  },
  {
   "cell_type": "code",
   "execution_count": 3,
   "metadata": {},
   "outputs": [
    {
     "data": {
      "text/html": [
       "<div>\n",
       "<style>\n",
       "    .dataframe thead tr:only-child th {\n",
       "        text-align: right;\n",
       "    }\n",
       "\n",
       "    .dataframe thead th {\n",
       "        text-align: left;\n",
       "    }\n",
       "\n",
       "    .dataframe tbody tr th {\n",
       "        vertical-align: top;\n",
       "    }\n",
       "</style>\n",
       "<table border=\"1\" class=\"dataframe\">\n",
       "  <thead>\n",
       "    <tr style=\"text-align: right;\">\n",
       "      <th>Notas musicais</th>\n",
       "      <th>Frequências</th>\n",
       "    </tr>\n",
       "    <tr>\n",
       "      <th>key</th>\n",
       "      <th></th>\n",
       "    </tr>\n",
       "  </thead>\n",
       "  <tbody>\n",
       "    <tr>\n",
       "      <th>C</th>\n",
       "      <td>10</td>\n",
       "    </tr>\n",
       "    <tr>\n",
       "      <th>C♯, D♭</th>\n",
       "      <td>16</td>\n",
       "    </tr>\n",
       "    <tr>\n",
       "      <th>D</th>\n",
       "      <td>13</td>\n",
       "    </tr>\n",
       "    <tr>\n",
       "      <th>D♯, E♭</th>\n",
       "      <td>2</td>\n",
       "    </tr>\n",
       "    <tr>\n",
       "      <th>E</th>\n",
       "      <td>3</td>\n",
       "    </tr>\n",
       "    <tr>\n",
       "      <th>F</th>\n",
       "      <td>8</td>\n",
       "    </tr>\n",
       "    <tr>\n",
       "      <th>F♯, G♭</th>\n",
       "      <td>5</td>\n",
       "    </tr>\n",
       "    <tr>\n",
       "      <th>G</th>\n",
       "      <td>9</td>\n",
       "    </tr>\n",
       "    <tr>\n",
       "      <th>G♯, A♭</th>\n",
       "      <td>5</td>\n",
       "    </tr>\n",
       "    <tr>\n",
       "      <th>A</th>\n",
       "      <td>10</td>\n",
       "    </tr>\n",
       "    <tr>\n",
       "      <th>A♯, B♭</th>\n",
       "      <td>10</td>\n",
       "    </tr>\n",
       "    <tr>\n",
       "      <th>B</th>\n",
       "      <td>9</td>\n",
       "    </tr>\n",
       "  </tbody>\n",
       "</table>\n",
       "</div>"
      ],
      "text/plain": [
       "Notas musicais  Frequências\n",
       "key                        \n",
       "C                        10\n",
       "C♯, D♭                   16\n",
       "D                        13\n",
       "D♯, E♭                    2\n",
       "E                         3\n",
       "F                         8\n",
       "F♯, G♭                    5\n",
       "G                         9\n",
       "G♯, A♭                    5\n",
       "A                        10\n",
       "A♯, B♭                   10\n",
       "B                         9"
      ]
     },
     "execution_count": 3,
     "metadata": {},
     "output_type": "execute_result"
    }
   ],
   "source": [
    "spotdata.notakey = spotdata.key\n",
    "spotdata.notakey = spotdata.notakey.astype('category')\n",
    "spotdata.notakey.cat.categories = (['C','C♯, D♭','D','D♯, E♭','E','F','F♯, G♭','G','G♯, A♭','A','A♯, B♭','B'])\n",
    "\n",
    "#tabela de frequência das notas (key)\n",
    "#spotdata.energy.value_counts()/100\n",
    "pd.crosstab(spotdata.notakey,'Frequências', colnames=['Notas musicais'])"
   ]
  },
  {
   "cell_type": "code",
   "execution_count": 4,
   "metadata": {},
   "outputs": [
    {
     "name": "stderr",
     "output_type": "stream",
     "text": [
      "C:\\Users\\Carla Kim\\Anaconda3\\lib\\site-packages\\ipykernel_launcher.py:2: SettingWithCopyWarning: \n",
      "A value is trying to be set on a copy of a slice from a DataFrame.\n",
      "Try using .loc[row_indexer,col_indexer] = value instead\n",
      "\n",
      "See the caveats in the documentation: http://pandas.pydata.org/pandas-docs/stable/indexing.html#indexing-view-versus-copy\n",
      "  \n",
      "C:\\Users\\Carla Kim\\Anaconda3\\lib\\site-packages\\ipykernel_launcher.py:4: SettingWithCopyWarning: \n",
      "A value is trying to be set on a copy of a slice from a DataFrame.\n",
      "Try using .loc[row_indexer,col_indexer] = value instead\n",
      "\n",
      "See the caveats in the documentation: http://pandas.pydata.org/pandas-docs/stable/indexing.html#indexing-view-versus-copy\n",
      "  after removing the cwd from sys.path.\n",
      "C:\\Users\\Carla Kim\\Anaconda3\\lib\\site-packages\\ipykernel_launcher.py:7: SettingWithCopyWarning: \n",
      "A value is trying to be set on a copy of a slice from a DataFrame.\n",
      "Try using .loc[row_indexer,col_indexer] = value instead\n",
      "\n",
      "See the caveats in the documentation: http://pandas.pydata.org/pandas-docs/stable/indexing.html#indexing-view-versus-copy\n",
      "  import sys\n",
      "C:\\Users\\Carla Kim\\Anaconda3\\lib\\site-packages\\ipykernel_launcher.py:8: SettingWithCopyWarning: \n",
      "A value is trying to be set on a copy of a slice from a DataFrame.\n",
      "Try using .loc[row_indexer,col_indexer] = value instead\n",
      "\n",
      "See the caveats in the documentation: http://pandas.pydata.org/pandas-docs/stable/indexing.html#indexing-view-versus-copy\n",
      "  \n"
     ]
    },
    {
     "data": {
      "text/plain": [
       "<matplotlib.axes._subplots.AxesSubplot at 0x285a5f06898>"
      ]
     },
     "execution_count": 4,
     "metadata": {},
     "output_type": "execute_result"
    },
    {
     "data": {
      "image/png": "[encoded data removed]",
      "text/plain": [
       "<matplotlib.figure.Figure at 0x285a4bf34a8>"
      ]
     },
     "metadata": {},
     "output_type": "display_data"
    }
   ],
   "source": [
    "#para o treinamento do computador dos 100 primeiros termos\n",
    "spotdata['mode12key'] = spotdata['mode']*12 + spotdata['key']\n",
    "\n",
    "spotdata['mode12key'] = np.where(spotdata.mode12key >= spotdata['mode12key'].mean(), 1, 0)\n",
    "\n",
    "#para o teste dos novos termos de 100 a 200\n",
    "spotdata['mode12keytreina'] = spotdatatreina['mode']*12 + spotdatatreina['key']\n",
    "spotdata['mode12keytreina'] = np.where(spotdata.mode12keytreina >= spotdata['mode12keytreina'].mean(), 1, 0)\n",
    "\n",
    "#plot do gráfico \n",
    "spotdata.plot(kind = \"scatter\", x = \"danceability\", y = \"mode12key\")"
   ]
  },
  {
   "cell_type": "markdown",
   "metadata": {},
   "source": [
    "## **Part 2:** Predicting a Categorical Response"
   ]
  },
  {
   "cell_type": "code",
   "execution_count": 60,
   "metadata": {},
   "outputs": [
    {
     "name": "stdout",
     "output_type": "stream",
     "text": [
      "Optimization terminated successfully.\n",
      "         Current function value: 0.530908\n",
      "         Iterations 5\n",
      "<statsmodels.discrete.discrete_model.BinaryResultsWrapper object at 0x00000285A6871518>\n",
      "Optimization terminated successfully.\n",
      "         Current function value: 0.625494\n",
      "         Iterations 5\n",
      "<statsmodels.discrete.discrete_model.BinaryResultsWrapper object at 0x00000285A6C7F1D0>\n",
      "Optimization terminated successfully.\n",
      "         Current function value: 0.595376\n",
      "         Iterations 4\n",
      "<statsmodels.discrete.discrete_model.BinaryResultsWrapper object at 0x00000285A6C7F320>\n"
     ]
    },
    {
     "name": "stderr",
     "output_type": "stream",
     "text": [
      "C:\\Users\\Carla Kim\\Anaconda3\\lib\\site-packages\\ipykernel_launcher.py:8: SettingWithCopyWarning: \n",
      "A value is trying to be set on a copy of a slice from a DataFrame.\n",
      "Try using .loc[row_indexer,col_indexer] = value instead\n",
      "\n",
      "See the caveats in the documentation: http://pandas.pydata.org/pandas-docs/stable/indexing.html#indexing-view-versus-copy\n",
      "  \n"
     ]
    }
   ],
   "source": [
    "# fit a logistic regression model and store the class predictions\n",
    "from sklearn.linear_model import LogisticRegression\n",
    "logreg = LogisticRegression(C=1e9)\n",
    "feature_cols = ['danceability']\n",
    "X = spotdata[feature_cols]\n",
    "y = spotdata.mode12key\n",
    "logreg.fit(X, y)\n",
    "spotdata['mode12key_pred_class'] = logreg.predict(X)\n",
    "\n",
    "#train_cols = spotdata.columns[1:]\n",
    "logit = sm.Logit(spotdata['danceability'], spotdata['mode12key_pred_class'])\n",
    "result = logit.fit()\n",
    "print(result)\n",
    "\n",
    "logit2 = sm.Logit(spotdata['danceability'], spotdata['mode12key'])\n",
    "result2 = logit2.fit()\n",
    "print(result2)\n",
    "\n",
    "logit3 = sm.Logit(spotdata['danceability'], spotdata['energy'])\n",
    "result3 = logit3.fit()\n",
    "print(result3)\n",
    "\n",
    "#logit4 = sm.Logit(spotdata['danceability'], spotdata['k'])\n",
    "#result4 = logit4.fit()\n",
    "#print(result4)"
   ]
  },
  {
   "cell_type": "code",
   "execution_count": 53,
   "metadata": {},
   "outputs": [
    {
     "name": "stdout",
     "output_type": "stream",
     "text": [
      "danceability\n"
     ]
    }
   ],
   "source": [
    "#train_cols = spotdata.columns[2]\n",
    "#print(train_cols)"
   ]
  },
  {
   "cell_type": "code",
   "execution_count": 62,
   "metadata": {},
   "outputs": [
    {
     "name": "stdout",
     "output_type": "stream",
     "text": [
      "                           Logit Regression Results                           \n",
      "==============================================================================\n",
      "Dep. Variable:           danceability   No. Observations:                  100\n",
      "Model:                          Logit   Df Residuals:                       99\n",
      "Method:                           MLE   Df Model:                            0\n",
      "Date:                Thu, 16 Nov 2017   Pseudo R-squ.:                 0.09491\n",
      "Time:                        22:35:43   Log-Likelihood:                -53.091\n",
      "converged:                       True   LL-Null:                       -58.658\n",
      "                                        LLR p-value:                       nan\n",
      "========================================================================================\n",
      "                           coef    std err          z      P>|z|      [0.025      0.975]\n",
      "----------------------------------------------------------------------------------------\n",
      "mode12key_pred_class     1.1449      0.290      3.950      0.000       0.577       1.713\n",
      "========================================================================================\n",
      "                           Logit Regression Results                           \n",
      "==============================================================================\n",
      "Dep. Variable:           danceability   No. Observations:                  100\n",
      "Model:                          Logit   Df Residuals:                       99\n",
      "Method:                           MLE   Df Model:                            0\n",
      "Date:                Thu, 16 Nov 2017   Pseudo R-squ.:                -0.06634\n",
      "Time:                        22:35:43   Log-Likelihood:                -62.549\n",
      "converged:                       True   LL-Null:                       -58.658\n",
      "                                        LLR p-value:                       nan\n",
      "==============================================================================\n",
      "                 coef    std err          z      P>|z|      [0.025      0.975]\n",
      "------------------------------------------------------------------------------\n",
      "mode12key      0.7877      0.299      2.633      0.008       0.201       1.374\n",
      "==============================================================================\n",
      "                           Logit Regression Results                           \n",
      "==============================================================================\n",
      "Dep. Variable:           danceability   No. Observations:                  100\n",
      "Model:                          Logit   Df Residuals:                       99\n",
      "Method:                           MLE   Df Model:                            0\n",
      "Date:                Thu, 16 Nov 2017   Pseudo R-squ.:                -0.01500\n",
      "Time:                        22:35:43   Log-Likelihood:                -59.538\n",
      "converged:                       True   LL-Null:                       -58.658\n",
      "                                        LLR p-value:                       nan\n",
      "==============================================================================\n",
      "                 coef    std err          z      P>|z|      [0.025      0.975]\n",
      "------------------------------------------------------------------------------\n",
      "energy         1.0082      0.320      3.149      0.002       0.381       1.636\n",
      "==============================================================================\n"
     ]
    }
   ],
   "source": [
    "print (result.summary())\n",
    "print (result2.summary())\n",
    "print (result3.summary())\n"
   ]
  },
  {
   "cell_type": "code",
   "execution_count": 6,
   "metadata": {},
   "outputs": [
    {
     "data": {
      "text/plain": [
       "<matplotlib.text.Text at 0x285a67bac88>"
      ]
     },
     "execution_count": 6,
     "metadata": {},
     "output_type": "execute_result"
    },
    {
     "data": {
      "image/png": "[encoded data removed]",
      "text/plain": [
       "<matplotlib.figure.Figure at 0x285a4bf38d0>"
      ]
     },
     "metadata": {},
     "output_type": "display_data"
    }
   ],
   "source": [
    "sns.lmplot('danceability','mode12key_pred_class',spotdata)\n",
    "plt.title('Previsão da previsão das notas de cada música por quão dançável é a música')\n",
    "plt.xlabel('danceability')\n",
    "plt.ylabel('mode12key')"
   ]
  },
  {
   "cell_type": "code",
   "execution_count": 7,
   "metadata": {},
   "outputs": [
    {
     "name": "stderr",
     "output_type": "stream",
     "text": [
      "C:\\Users\\Carla Kim\\Anaconda3\\lib\\site-packages\\ipykernel_launcher.py:1: SettingWithCopyWarning: \n",
      "A value is trying to be set on a copy of a slice from a DataFrame.\n",
      "Try using .loc[row_indexer,col_indexer] = value instead\n",
      "\n",
      "See the caveats in the documentation: http://pandas.pydata.org/pandas-docs/stable/indexing.html#indexing-view-versus-copy\n",
      "  \"\"\"Entry point for launching an IPython kernel.\n"
     ]
    }
   ],
   "source": [
    "spotdata['mode12key_pred_prob'] = logreg.predict_proba(X)[:, 1]"
   ]
  },
  {
   "cell_type": "code",
   "execution_count": 8,
   "metadata": {},
   "outputs": [
    {
     "data": {
      "text/plain": [
       "<matplotlib.text.Text at 0x285a688e6a0>"
      ]
     },
     "execution_count": 8,
     "metadata": {},
     "output_type": "execute_result"
    },
    {
     "data": {
      "image/png": "[encoded data removed]",
      "text/plain": [
       "<matplotlib.figure.Figure at 0x285a6871c88>"
      ]
     },
     "metadata": {},
     "output_type": "display_data"
    }
   ],
   "source": [
    "sns.lmplot(x = 'danceability', y='mode12key_pred_prob', data=spotdata)\n",
    "plt.title('Probabilidade do tom da música por quão dançável é a música')\n",
    "plt.xlabel('danceability')\n",
    "plt.ylabel('mode12key')"
   ]
  },
  {
   "cell_type": "markdown",
   "metadata": {},
   "source": [
    "O gráfico de probabilidade nos diz que, para uma dançabilidade menor, a chance de a música ter um tom menor e ter as notas iniciais (mais próximas de dó (key 0 = C)) é maior que a outra chance."
   ]
  },
  {
   "cell_type": "code",
   "execution_count": 9,
   "metadata": {},
   "outputs": [
    {
     "name": "stdout",
     "output_type": "stream",
     "text": [
      "[[ 0.67173525  0.32826475]]\n",
      "[[ 0.55153401  0.44846599]]\n",
      "[[ 0.4249947  0.5750053]]\n"
     ]
    }
   ],
   "source": [
    "# examine some example predictions\n",
    "print(logreg.predict_proba(0.2))\n",
    "print(logreg.predict_proba(0.5))\n",
    "print(logreg.predict_proba(0.8))"
   ]
  },
  {
   "cell_type": "markdown",
   "metadata": {},
   "source": [
    "A primeira coluna "
   ]
  },
  {
   "cell_type": "code",
   "execution_count": null,
   "metadata": {},
   "outputs": [],
   "source": []
  },
  {
   "cell_type": "code",
   "execution_count": null,
   "metadata": {
    "collapsed": true
   },
   "outputs": [],
   "source": []
  }
 ],
 "metadata": {
  "kernelspec": {
   "display_name": "Python 3",
   "language": "python",
   "name": "python3"
  },
  "language_info": {
   "codemirror_mode": {
    "name": "ipython",
    "version": 3
   },
   "file_extension": ".py",
   "mimetype": "text/x-python",
   "name": "python",
   "nbconvert_exporter": "python",
   "pygments_lexer": "ipython3",
   "version": "3.6.1"
  }
 },
 "nbformat": 4,
 "nbformat_minor": 2
}
